{
 "cells": [
  {
   "cell_type": "code",
   "execution_count": null,
   "metadata": {},
   "outputs": [],
   "source": [
    "words=['bit', 'hit', 'kit', 'lit', 'pit', 'sit', 'wit']\n",
    "n=0\n",
    "for word in words: # 제일 먼저 words의 개수만큼 돌거고 7\n",
    "    c in word: # 그 안의 개수만큼 돌아서 7*3=21\n",
    "        n+=1\n",
    "print(n)"
   ]
  },
  {
   "cell_type": "code",
   "execution_count": 14,
   "metadata": {},
   "outputs": [
    {
     "name": "stdout",
     "output_type": "stream",
     "text": [
      "bit\n",
      "b\n",
      "1\n",
      "i\n",
      "2\n",
      "t\n",
      "3\n",
      "hit\n",
      "h\n",
      "4\n",
      "i\n",
      "5\n",
      "t\n",
      "6\n",
      "kit\n",
      "k\n",
      "7\n",
      "i\n",
      "8\n",
      "t\n",
      "9\n",
      "lit\n",
      "l\n",
      "10\n",
      "i\n",
      "11\n",
      "t\n",
      "12\n",
      "pit\n",
      "p\n",
      "13\n",
      "i\n",
      "14\n",
      "t\n",
      "15\n",
      "sit\n",
      "s\n",
      "16\n",
      "i\n",
      "17\n",
      "t\n",
      "18\n",
      "wit\n",
      "w\n",
      "19\n",
      "i\n",
      "20\n",
      "t\n",
      "21\n",
      "21\n"
     ]
    }
   ],
   "source": [
    "words=['bit', 'hit', 'kit', 'lit', 'pit', 'sit', 'wit']\n",
    "n=0\n",
    "for word in words: \n",
    "    print(word) # bit hit kit lit pit sit wit\n",
    "    for c in word:\n",
    "        print(c) # b i t h i t k i t p i t s i t w i t\n",
    "        n+=1\n",
    "        print(n) \n",
    "print(n)"
   ]
  },
  {
   "cell_type": "code",
   "execution_count": 4,
   "metadata": {},
   "outputs": [
    {
     "name": "stdout",
     "output_type": "stream",
     "text": [
      "21\n"
     ]
    }
   ],
   "source": [
    "words=['bit', 'hit', 'kit', 'lit', 'pit', 'sit', 'wit']\n",
    "list=[c for word in words for c in word]\n",
    "print(len(list))"
   ]
  },
  {
   "cell_type": "code",
   "execution_count": 16,
   "metadata": {},
   "outputs": [
    {
     "name": "stdout",
     "output_type": "stream",
     "text": [
      "[0]\n",
      "1\n",
      "0\n",
      "2\n",
      "[1, 1]\n",
      "3\n",
      "1\n",
      "4\n",
      "1\n",
      "5\n",
      "[2, 3, 5]\n",
      "6\n",
      "2\n",
      "7\n",
      "3\n",
      "8\n",
      "5\n",
      "9\n",
      "[8, 11, 19, 30]\n",
      "10\n",
      "8\n",
      "11\n",
      "11\n",
      "12\n",
      "19\n",
      "13\n",
      "30\n",
      "14\n",
      "14\n"
     ]
    }
   ],
   "source": [
    "t=0\n",
    "lists=[[0], [1,1], [2,3,5], [8,11,19,30]]\n",
    "for list in lists:\n",
    "    print(list)\n",
    "    t+=1\n",
    "    print(t)\n",
    "    for n in list:\n",
    "        print(n)\n",
    "        t+=1\n",
    "        print(t)\n",
    "print(t) # 14"
   ]
  },
  {
   "cell_type": "code",
   "execution_count": 17,
   "metadata": {},
   "outputs": [
    {
     "name": "stdout",
     "output_type": "stream",
     "text": [
      "0\n",
      "1\n",
      "0\n",
      "1\n",
      "2\n",
      "0\n",
      "3\n",
      "1\n",
      "6\n",
      "3\n",
      "0\n",
      "14\n",
      "1\n",
      "25\n",
      "2\n",
      "44\n",
      "44\n"
     ]
    }
   ],
   "source": [
    "s=0\n",
    "lists=[[0], [1,1], [2,3,5], [8,11,19,30]]\n",
    "for m in range(len(lists)):\n",
    "    print(m)\n",
    "    for n in range(len(lists[m])-1): # 0, range(2-1),  \n",
    "        print(n)\n",
    "        s+=lists[m][n] # 마지막꺼 뺴고 더하라 x, 1, 2 3, 8 11 19\n",
    "        print(s)\n",
    "print(s) # 44"
   ]
  },
  {
   "cell_type": "code",
   "execution_count": 7,
   "metadata": {},
   "outputs": [
    {
     "name": "stdout",
     "output_type": "stream",
     "text": [
      "4\n"
     ]
    }
   ],
   "source": [
    "S= 'abcdefghijklmnopqrstuvwxyz'\n",
    "L=S.split('e')\n",
    "K='k'.join(L)\n",
    "print(K.find('k')) # find는 첫번째 k 만 찾으니까 4"
   ]
  },
  {
   "cell_type": "code",
   "execution_count": 8,
   "metadata": {},
   "outputs": [
    {
     "name": "stdout",
     "output_type": "stream",
     "text": [
      "rc\n",
      "<class 'str'>\n"
     ]
    }
   ],
   "source": [
    "import re\n",
    "word = 'supercalifragilisticexpialidocious'\n",
    "regexp= '[ae](..)[ae]'\n",
    "list = re.findall(regexp,word)\n",
    "print(list[0]) \n",
    "print(type(list[0]))"
   ]
  },
  {
   "cell_type": "code",
   "execution_count": 9,
   "metadata": {},
   "outputs": [
    {
     "name": "stdout",
     "output_type": "stream",
     "text": [
      "i\n"
     ]
    }
   ],
   "source": [
    "import re\n",
    "words = ['Linear algebra', 'Calculus', 'sigma', 'neural network']\n",
    "result = [w for w in words if re.search('a$',w)]\n",
    "result = [w for w in result if re.search('',w)]\n",
    "print(result[0][1]) # i"
   ]
  },
  {
   "cell_type": "code",
   "execution_count": 11,
   "metadata": {},
   "outputs": [
    {
     "name": "stdout",
     "output_type": "stream",
     "text": [
      "[[0.60364274 0.08903215 0.82335984 0.19117415 0.87950301 0.57355194\n",
      "  0.43609621 0.67668641 0.25426231 0.69051231 0.30303441 0.11536906]\n",
      " [0.85064854 0.89246441 0.30787455 0.79385682 0.17167176 0.48007921\n",
      "  0.64053763 0.22950506 0.97833902 0.01209215 0.37834342 0.18055834]\n",
      " [0.57418572 0.84928903 0.72781933 0.99149813 0.3189574  0.6279198\n",
      "  0.3169892  0.74601847 0.73566993 0.40996849 0.41785801 0.76907938]\n",
      " [0.14958027 0.97604148 0.55995234 0.23617668 0.42660313 0.09521453\n",
      "  0.2731534  0.88433552 0.52235342 0.60785675 0.56948157 0.8060775 ]\n",
      " [0.56036557 0.95265444 0.16946818 0.4969412  0.99390499 0.19344306\n",
      "  0.76275675 0.21386827 0.68926228 0.53057246 0.73527111 0.70041017]\n",
      " [0.19492197 0.39235448 0.35671673 0.69212249 0.03075733 0.75282699\n",
      "  0.16711921 0.53805732 0.05383971 0.74849437 0.75718    0.09276782]]\n"
     ]
    }
   ],
   "source": [
    "import numpy as np\n",
    "X = np.random.random([6,12])\n",
    "print(X)"
   ]
  },
  {
   "cell_type": "code",
   "execution_count": 12,
   "metadata": {},
   "outputs": [
    {
     "name": "stdout",
     "output_type": "stream",
     "text": [
      "(6.123233995736766e-17+1j)\n"
     ]
    }
   ],
   "source": [
    "import numpy as np\n",
    "print(np.exp(np.pi/2*1j))"
   ]
  }
 ],
 "metadata": {
  "kernelspec": {
   "display_name": "Python 3",
   "language": "python",
   "name": "python3"
  },
  "language_info": {
   "codemirror_mode": {
    "name": "ipython",
    "version": 3
   },
   "file_extension": ".py",
   "mimetype": "text/x-python",
   "name": "python",
   "nbconvert_exporter": "python",
   "pygments_lexer": "ipython3",
   "version": "3.7.1"
  }
 },
 "nbformat": 4,
 "nbformat_minor": 2
}
